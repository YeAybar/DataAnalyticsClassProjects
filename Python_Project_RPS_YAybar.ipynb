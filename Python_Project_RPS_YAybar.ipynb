{
  "nbformat": 4,
  "nbformat_minor": 0,
  "metadata": {
    "colab": {
      "name": "Python Project - RPS - YAybar.ipynb",
      "provenance": [],
      "authorship_tag": "ABX9TyN7ppVopH+88YmJuBZuNKS/",
      "include_colab_link": true
    },
    "kernelspec": {
      "name": "python3",
      "display_name": "Python 3"
    },
    "language_info": {
      "name": "python"
    }
  },
  "cells": [
    {
      "cell_type": "markdown",
      "metadata": {
        "id": "view-in-github",
        "colab_type": "text"
      },
      "source": [
        "<a href=\"https://colab.research.google.com/github/YeAybar/DataAnalyticsClassProjects/blob/main/Python_Project_RPS_YAybar.ipynb\" target=\"_parent\"><img src=\"https://colab.research.google.com/assets/colab-badge.svg\" alt=\"Open In Colab\"/></a>"
      ]
    },
    {
      "cell_type": "code",
      "execution_count": 2,
      "metadata": {
        "colab": {
          "base_uri": "https://localhost:8080/"
        },
        "id": "Sd2bg_Sz04ry",
        "outputId": "d8dddda8-2822-4433-b2be-01b71e1d4320"
      },
      "outputs": [
        {
          "output_type": "stream",
          "name": "stdout",
          "text": [
            "Welcome to the game of Rock, Paper, Scissors! This is a two player game. Pick your player and let the fun begin!\n",
            "Player One, make your pick: rock, paper, scissor--->rock\n",
            "Player Two, make your pick: rock, paper, scissor--->paper\n",
            "Player Two Wins!!\n",
            "\n",
            "None\n",
            "\n",
            "Do you want to play again? y/n-->y\n",
            "Player One, make your pick: rock, paper, scissor--->scissor\n",
            "Player Two, make your pick: rock, paper, scissor--->paper\n",
            "Player One Wins!!\n",
            "\n",
            "None\n",
            "\n",
            "Do you want to play again? y/n-->n\n",
            "Thanks for Playing! See you Next Time!\n"
          ]
        }
      ],
      "source": [
        "print( \"Welcome to the game of Rock, Paper, Scissors! This is a two player game. Pick your player and let the fun begin!\")\n",
        "pick = [\"rock\", \"paper\", \"scissor\"]\n",
        "def RPS (Player_One, Player_Two):\n",
        "    if Player_One == \"rock\" and Player_Two == \"paper\":\n",
        "      print (\"Player Two Wins!!\\n\")\n",
        "    elif Player_One == \"paper\" and Player_Two == \"rock\":\n",
        "      print (\"Player One Wins!!\\n\")\n",
        "    elif Player_One == \"paper\" and Player_Two == \"scissor\":\n",
        "      print (\"Player Two Wins!!\\n\")\n",
        "    elif Player_One == \"scissor\" and Player_Two == \"paper\":\n",
        "      print (\"Player One Wins!!\\n\")\n",
        "    elif Player_One == \"rock\" and Player_Two == \"scissor\":\n",
        "      print (\"Player One Wins!!\\n\")\n",
        "    elif Player_One == \"scissor\" and Player_Two == \"rock\":\n",
        "      print (\"Player Two Wins!!\\n\")\n",
        "    elif Player_One == \"rock\" and Player_Two == \"paper\":\n",
        "      print (\"Player Two Wins!!\\n\")\n",
        "    elif Player_One == Player_Two:\n",
        "      print (\"Tie!\\n\")\n",
        "    elif Player_One not in pick:\n",
        "      print (\"Player One,Incorrect input and try again \\n\")\n",
        "    elif Player_Two not in pick:\n",
        "      print (\"Player Two,Incorrect input and try again \\n\")  \n",
        "game = True\n",
        "while game:\n",
        "  Player_One = input(\"Player One, make your pick: rock, paper, scissor--->\")\n",
        "  Player_Two = input(\"Player Two, make your pick: rock, paper, scissor--->\")\n",
        "  print (RPS(Player_One,Player_Two))\n",
        "  quit = input(\"\\nDo you want to play again? y/n-->\")\n",
        "  if quit == \"y\":\n",
        "    game\n",
        "  else:\n",
        "    print( \"Thanks for Playing! See you Next Time!\")\n",
        "    break"
      ]
    }
  ]
}